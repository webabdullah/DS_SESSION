{
  "nbformat": 4,
  "nbformat_minor": 0,
  "metadata": {
    "colab": {
      "name": "Untitled23.ipynb",
      "provenance": [],
      "authorship_tag": "ABX9TyMbW/p9sLo5vDxcR2obZ2Di",
      "include_colab_link": true
    },
    "kernelspec": {
      "name": "python3",
      "display_name": "Python 3"
    },
    "language_info": {
      "name": "python"
    }
  },
  "cells": [
    {
      "cell_type": "markdown",
      "metadata": {
        "id": "view-in-github",
        "colab_type": "text"
      },
      "source": [
        "<a href=\"https://colab.research.google.com/github/webabdullah/DS_SESSION/blob/main/HEART%20DISEASE.ipynb\" target=\"_parent\"><img src=\"https://colab.research.google.com/assets/colab-badge.svg\" alt=\"Open In Colab\"/></a>"
      ]
    },
    {
      "cell_type": "code",
      "metadata": {
        "id": "9VyECZvCQJwC"
      },
      "source": [
        "import pandas as pd\n",
        "import matplotlib.pyplot as plt\n",
        "import seaborn as sns\n"
      ],
      "execution_count": 21,
      "outputs": []
    },
    {
      "cell_type": "code",
      "metadata": {
        "id": "o6yz8miKW6mf"
      },
      "source": [
        "df = pd.read_csv(\"cleveland.csv\")"
      ],
      "execution_count": 24,
      "outputs": []
    },
    {
      "cell_type": "code",
      "metadata": {
        "id": "KdPqyx4CSoKQ"
      },
      "source": [
        "# import warnings filter\n",
        "from warnings import simplefilter"
      ],
      "execution_count": 25,
      "outputs": []
    },
    {
      "cell_type": "code",
      "metadata": {
        "id": "MG4hj6L7S8sq"
      },
      "source": [
        "simplefilter(action='ignore', category = FutureWarning)"
      ],
      "execution_count": 26,
      "outputs": []
    },
    {
      "cell_type": "code",
      "metadata": {
        "id": "xpcGU0MRTAmC"
      },
      "source": [
        "from warnings import simplefilter"
      ],
      "execution_count": 27,
      "outputs": []
    },
    {
      "cell_type": "code",
      "metadata": {
        "id": "-Ed8MCJ9TD-P"
      },
      "source": [
        "df = pd.read_csv('cleveland.csv', header = None)\n",
        "df.columns = ['age', 'sex', 'cp', 'trestbps', 'chol',\n",
        "'fbs', 'restecg', 'thalach', 'exang',\n",
        "'oldpeak', 'slope', 'ca', 'thal', 'target']"
      ],
      "execution_count": 28,
      "outputs": []
    },
    {
      "cell_type": "code",
      "metadata": {
        "colab": {
          "base_uri": "https://localhost:8080/"
        },
        "id": "mMvgN5rTTJay",
        "outputId": "552a3dcc-8255-41cd-fbe4-5793abb18d2a"
      },
      "source": [
        "df.isnull().sum()"
      ],
      "execution_count": 8,
      "outputs": [
        {
          "output_type": "execute_result",
          "data": {
            "text/plain": [
              "age         0\n",
              "sex         0\n",
              "cp          0\n",
              "trestbps    0\n",
              "chol        0\n",
              "fbs         0\n",
              "restecg     0\n",
              "thalach     0\n",
              "exang       0\n",
              "oldpeak     0\n",
              "slope       0\n",
              "ca          4\n",
              "thal        2\n",
              "target      0\n",
              "dtype: int64"
            ]
          },
          "metadata": {
            "tags": []
          },
          "execution_count": 8
        }
      ]
    },
    {
      "cell_type": "code",
      "metadata": {
        "id": "ESIvLu2XTNTP"
      },
      "source": [
        "df['target'] = df.target.map({0: 0, 1: 1, 2: 1, 3: 1, 4: 1})\n",
        "df['sex'] = df.sex.map({0: 'female', 1: 'male'})\n",
        "df['thal'] = df.thal.fillna(df.thal.mean())\n",
        "df['ca'] = df.ca.fillna(df.ca.mean())"
      ],
      "execution_count": 29,
      "outputs": []
    },
    {
      "cell_type": "code",
      "metadata": {
        "colab": {
          "base_uri": "https://localhost:8080/",
          "height": 396
        },
        "id": "YYjX1iXyTwvS",
        "outputId": "f53960a9-ddbd-4845-b9ae-bfc05d4738a8"
      },
      "source": [
        "sns.set_context(\"paper\", font_scale = 2, rc = {\"font.size\": 20,\"axes.titlesize\": 25,\"axes.labelsize\": 20})\n",
        "sns.catplot(kind = 'count', data = df, x = 'age', hue = 'target', order = df['age'].sort_values().unique())\n",
        "plt.title('Variation of Age for each target class')\n",
        "plt.show()"
      ],
      "execution_count": 30,
      "outputs": [
        {
          "output_type": "display_data",
          "data": {
            "image/png": "[encoded data removed]",
            "text/plain": [
              "<Figure size 434.485x360 with 1 Axes>"
            ]
          },
          "metadata": {
            "tags": [],
            "needs_background": "light"
          }
        }
      ]
    },
    {
      "cell_type": "code",
      "metadata": {
        "colab": {
          "base_uri": "https://localhost:8080/",
          "height": 396
        },
        "id": "JPudkuDDT4b0",
        "outputId": "995621ed-42d2-46af-8f6d-41086a9fbc77"
      },
      "source": [
        "# barplot of age vs sex with hue = target\n",
        "sns.catplot(kind = 'bar', data = df, y = 'age', x = 'sex', hue = 'target')\n",
        "plt.title('Distribution of age vs sex with the target class')\n",
        "plt.show()\n",
        "df['sex'] = df.sex.map({'female': 0, 'male': 1})"
      ],
      "execution_count": 31,
      "outputs": [
        {
          "output_type": "display_data",
          "data": {
            "image/png": "[encoded data removed]",
            "text/plain": [
              "<Figure size 434.485x360 with 1 Axes>"
            ]
          },
          "metadata": {
            "tags": [],
            "needs_background": "light"
          }
        }
      ]
    },
    {
      "cell_type": "code",
      "metadata": {
        "id": "3dnbqvI1XK6C"
      },
      "source": [
        "################# data preprocessing\n",
        "X = df.iloc[:, :-1].values\n",
        "y = df.iloc[:, -1].values\n",
        "from sklearn.model_selection import train_test_split\n",
        "X_train, X_test, y_train, y_test = train_test_split(X, y, test_size = 0.2, random_state = 0)\n",
        "from sklearn.preprocessing import StandardScaler as ss\n",
        "sc = ss()\n",
        "X_train = sc.fit_transform(X_train)"
      ],
      "execution_count": 33,
      "outputs": []
    },
    {
      "cell_type": "code",
      "metadata": {
        "id": "WvWBZKCmXdGP"
      },
      "source": [
        "X_test = sc.transform(X_test)"
      ],
      "execution_count": 36,
      "outputs": []
    },
    {
      "cell_type": "code",
      "metadata": {
        "colab": {
          "base_uri": "https://localhost:8080/"
        },
        "id": "g8QBdRyMXmXz",
        "outputId": "6fb8860f-bc62-464d-b5cd-289145ab2506"
      },
      "source": [
        "############ SVM\n",
        "from sklearn.svm import SVC\n",
        "classifier = SVC(kernel = 'rbf')\n",
        "classifier.fit(X_train, y_train)\n",
        "# Predicting the Test set results\n",
        "y_pred = classifier.predict(X_test)\n",
        "from sklearn.metrics import confusion_matrix\n",
        "cm_test = confusion_matrix(y_pred, y_test)\n",
        "y_pred_train = classifier.predict(X_train)\n",
        "cm_train = confusion_matrix(y_pred_train, y_train)\n",
        "print()\n",
        "print('Accuracy for training set for svm = {}'.format((cm_train[0][0] + cm_train[1][1])/len(y_train)))\n",
        "print('Accuracy for test set for svm = {}'.format((cm_test[0][0] + cm_test[1][1])/len(y_test)))"
      ],
      "execution_count": 37,
      "outputs": [
        {
          "output_type": "stream",
          "text": [
            "\n",
            "Accuracy for training set for svm = 0.9256198347107438\n",
            "Accuracy for test set for svm = 0.5737704918032787\n"
          ],
          "name": "stdout"
        }
      ]
    },
    {
      "cell_type": "code",
      "metadata": {
        "colab": {
          "base_uri": "https://localhost:8080/"
        },
        "id": "hzbqsWziXuEx",
        "outputId": "397b0b55-880e-4d77-b226-af66d026b551"
      },
      "source": [
        "############### Naive Bayes\n",
        "X = df.iloc[:, :-1].values\n",
        "y = df.iloc[:, -1].values\n",
        "from sklearn.model_selection import train_test_split\n",
        "X_train, X_test, y_train, y_test = train_test_split(X, y, test_size = 0.2, random_state = 0)\n",
        "from sklearn.naive_bayes import GaussianNB\n",
        "classifier = GaussianNB()\n",
        "classifier.fit(X_train, y_train)\n",
        "\n",
        "# Predicting the Test set results\n",
        "y_pred = classifier.predict(X_test)\n",
        "from sklearn.metrics import confusion_matrix\n",
        "cm_test = confusion_matrix(y_pred, y_test)\n",
        "y_pred_train = classifier.predict(X_train)\n",
        "cm_train = confusion_matrix(y_pred_train, y_train)\n",
        "print()"
      ],
      "execution_count": 39,
      "outputs": [
        {
          "output_type": "stream",
          "text": [
            "\n"
          ],
          "name": "stdout"
        }
      ]
    },
    {
      "cell_type": "code",
      "metadata": {
        "colab": {
          "base_uri": "https://localhost:8080/"
        },
        "id": "3lEsh4LLX08X",
        "outputId": "3977f207-b54a-405c-a68c-73107f4afa66"
      },
      "source": [
        "print('Accuracy for training set for Naive Bayes = {}'.format((cm_train[0][0] +\n",
        "cm_train[1][1])/len(y_train)))\n",
        "print('Accuracy for test set for Naive Bayes = {}'.format((cm_test[0][0] + cm_test[1][1])/len(y_test)))"
      ],
      "execution_count": 40,
      "outputs": [
        {
          "output_type": "stream",
          "text": [
            "Accuracy for training set for Naive Bayes = 0.8677685950413223\n",
            "Accuracy for test set for Naive Bayes = 0.7868852459016393\n"
          ],
          "name": "stdout"
        }
      ]
    },
    {
      "cell_type": "code",
      "metadata": {
        "colab": {
          "base_uri": "https://localhost:8080/"
        },
        "id": "SHudfDX_X50_",
        "outputId": "ec92d560-5939-454e-ee48-fb029bafd0cd"
      },
      "source": [
        "########### Logistic Regression\n",
        "X = df.iloc[:, :-1].values\n",
        "y = df.iloc[:, -1].values\n",
        "from sklearn.model_selection import train_test_split\n",
        "X_train, X_test, y_train, y_test = train_test_split(X, y, test_size = 0.2, random_state = 0)\n",
        "from sklearn.linear_model import LogisticRegression\n",
        "classifier = LogisticRegression()\n",
        "classifier.fit(X_train, y_train)\n",
        "# Predicting the Test set results\n",
        "y_pred = classifier.predict(X_test)\n",
        "from sklearn.metrics import confusion_matrix\n",
        "cm_test = confusion_matrix(y_pred, y_test)\n",
        "y_pred_train = classifier.predict(X_train)\n",
        "cm_train = confusion_matrix(y_pred_train, y_train)\n",
        "print()\n",
        "print('Accuracy for training set for Logistic Regression = {}'.format((cm_train[0][0] +\n",
        "cm_train[1][1])/len(y_train)))\n",
        "print('Accuracy for test set for Logistic Regression = {}'.format((cm_test[0][0] +\n",
        "cm_test[1][1])/len(y_test)))"
      ],
      "execution_count": 41,
      "outputs": [
        {
          "output_type": "stream",
          "text": [
            "\n",
            "Accuracy for training set for Logistic Regression = 0.8636363636363636\n",
            "Accuracy for test set for Logistic Regression = 0.8032786885245902\n"
          ],
          "name": "stdout"
        },
        {
          "output_type": "stream",
          "text": [
            "/usr/local/lib/python3.7/dist-packages/sklearn/linear_model/_logistic.py:940: ConvergenceWarning: lbfgs failed to converge (status=1):\n",
            "STOP: TOTAL NO. of ITERATIONS REACHED LIMIT.\n",
            "\n",
            "Increase the number of iterations (max_iter) or scale the data as shown in:\n",
            "    https://scikit-learn.org/stable/modules/preprocessing.html\n",
            "Please also refer to the documentation for alternative solver options:\n",
            "    https://scikit-learn.org/stable/modules/linear_model.html#logistic-regression\n",
            "  extra_warning_msg=_LOGISTIC_SOLVER_CONVERGENCE_MSG)\n"
          ],
          "name": "stderr"
        }
      ]
    },
    {
      "cell_type": "code",
      "metadata": {
        "colab": {
          "base_uri": "https://localhost:8080/"
        },
        "id": "REjDuJi5X_Ga",
        "outputId": "cc686e25-5b65-47ff-f76d-1a9fc906f7a4"
      },
      "source": [
        "############ Decision Tree\n",
        "X = df.iloc[:, :-1].values\n",
        "y = df.iloc[:, -1].values\n",
        "from sklearn.model_selection import train_test_split\n",
        "X_train, X_test, y_train, y_test = train_test_split(X, y, test_size = 0.2, random_state = 0)\n",
        "from sklearn.tree import DecisionTreeClassifier\n",
        "classifier = DecisionTreeClassifier()\n",
        "classifier.fit(X_train, y_train)"
      ],
      "execution_count": 42,
      "outputs": [
        {
          "output_type": "execute_result",
          "data": {
            "text/plain": [
              "DecisionTreeClassifier(ccp_alpha=0.0, class_weight=None, criterion='gini',\n",
              "                       max_depth=None, max_features=None, max_leaf_nodes=None,\n",
              "                       min_impurity_decrease=0.0, min_impurity_split=None,\n",
              "                       min_samples_leaf=1, min_samples_split=2,\n",
              "                       min_weight_fraction_leaf=0.0, presort='deprecated',\n",
              "                       random_state=None, splitter='best')"
            ]
          },
          "metadata": {
            "tags": []
          },
          "execution_count": 42
        }
      ]
    },
    {
      "cell_type": "code",
      "metadata": {
        "colab": {
          "base_uri": "https://localhost:8080/"
        },
        "id": "o8buqTNjYDbj",
        "outputId": "9bdb647b-221d-4944-d7d7-be472070a619"
      },
      "source": [
        "# Predicting the Test set results\n",
        "y_pred = classifier.predict(X_test)\n",
        "from sklearn.metrics import confusion_matrix\n",
        "cm_test = confusion_matrix(y_pred, y_test)\n",
        "y_pred_train = classifier.predict(X_train)\n",
        "cm_train = confusion_matrix(y_pred_train, y_train)\n",
        "print()\n",
        "print('Accuracy for training set for Decision Tree = {}'.format((cm_train[0][0] +\n",
        "cm_train[1][1])/len(y_train)))\n",
        "print('Accuracy for test set for Decision Tree = {}'.format((cm_test[0][0] +\n",
        "cm_test[1][1])/len(y_test)))"
      ],
      "execution_count": 43,
      "outputs": [
        {
          "output_type": "stream",
          "text": [
            "\n",
            "Accuracy for training set for Decision Tree = 1.0\n",
            "Accuracy for test set for Decision Tree = 0.8032786885245902\n"
          ],
          "name": "stdout"
        }
      ]
    },
    {
      "cell_type": "code",
      "metadata": {
        "colab": {
          "base_uri": "https://localhost:8080/"
        },
        "id": "ZFg7j3fkYHSE",
        "outputId": "ed36ef8d-b939-4616-d61f-1b20ee9951ae"
      },
      "source": [
        "############# Random Forest\n",
        "X = df.iloc[:, :-1].values\n",
        "y = df.iloc[:, -1].values\n",
        "from sklearn.model_selection import train_test_split\n",
        "X_train, X_test, y_train, y_test = train_test_split(X, y, test_size = 0.2, random_state = 0)\n",
        "from sklearn.ensemble import RandomForestClassifier\n",
        "classifier = RandomForestClassifier(n_estimators = 10)\n",
        "classifier.fit(X_train, y_train)\n",
        "# Predicting the Test set results\n",
        "y_pred = classifier.predict(X_test)\n",
        "from sklearn.metrics import confusion_matrix\n",
        "cm_test = confusion_matrix(y_pred, y_test)\n",
        "y_pred_train = classifier.predict(X_train)\n",
        "cm_train = confusion_matrix(y_pred_train, y_train)\n",
        "print()\n",
        "print('Accuracy for training set for Random Forest = {}'.format((cm_train[0][0] +\n",
        "cm_train[1][1])/len(y_train)))\n",
        "print('Accuracy for test set for Random Forest = {}'.format((cm_test[0][0] +\n",
        "cm_test[1][1])/len(y_test)))"
      ],
      "execution_count": 44,
      "outputs": [
        {
          "output_type": "stream",
          "text": [
            "\n",
            "Accuracy for training set for Random Forest = 0.987603305785124\n",
            "Accuracy for test set for Random Forest = 0.7704918032786885\n"
          ],
          "name": "stdout"
        }
      ]
    },
    {
      "cell_type": "code",
      "metadata": {
        "colab": {
          "base_uri": "https://localhost:8080/"
        },
        "id": "dndYOKznYNej",
        "outputId": "48390a34-cc46-4cf3-acda-313e31991925"
      },
      "source": [
        "# applying lightGBM\n",
        "import lightgbm as lgb\n",
        "d_train = lgb.Dataset(X_train, label = y_train)\n",
        "params = {}\n",
        "clf = lgb.train(params, d_train, 100)\n",
        "#Prediction\n",
        "y_pred = clf.predict(X_test)\n",
        "#convert into binary values\n",
        "for i in range(0, len(y_pred)):\n",
        "  if y_pred[i]>= 0.5: # setting threshold to .5\n",
        "    y_pred[i]=1\n",
        "  else:\n",
        "    y_pred[i]=0\n",
        "from sklearn.metrics import confusion_matrix\n",
        "cm_test = confusion_matrix(y_pred, y_test)\n",
        "y_pred_train = clf.predict(X_train)\n",
        "for i in range(0, len(y_pred_train)):\n",
        "  if y_pred_train[i]>= 0.5: # setting threshold to .5\n",
        "    y_pred_train[i]=1\n",
        "  else:\n",
        "    y_pred_train[i]=0\n",
        "cm_train = confusion_matrix(y_pred_train, y_train)\n",
        "print()\n",
        "print('Accuracy for training set for LightGBM = {}'.format((cm_train[0][0] +\n",
        "cm_train[1][1])/len(y_train)))\n",
        "print('Accuracy for test set for LightGBM = {}'.format((cm_test[0][0] + cm_test[1][1])/len(y_test)))"
      ],
      "execution_count": 45,
      "outputs": [
        {
          "output_type": "stream",
          "text": [
            "\n",
            "Accuracy for training set for LightGBM = 0.9958677685950413\n",
            "Accuracy for test set for LightGBM = 0.7704918032786885\n"
          ],
          "name": "stdout"
        }
      ]
    },
    {
      "cell_type": "code",
      "metadata": {
        "colab": {
          "base_uri": "https://localhost:8080/"
        },
        "id": "0pR90nwpYmWJ",
        "outputId": "caa05d70-3a60-402c-86b6-1a3b46004944"
      },
      "source": [
        "# applying XGBoost\n",
        "#from sklearn.model_selection import train_test_split\n",
        "#X_train, X_test, y_train, y_test = train_test_split(X, target, test_size = 0.20, random_state = 0)\n",
        "from xgboost import XGBClassifier\n",
        "xg = XGBClassifier()\n",
        "xg.fit(X_train, y_train)\n",
        "for i in range(0, len(y_pred_train)):\n",
        "  if y_pred_train[i]>= 0.5: # setting threshold to .5\n",
        "    y_pred_train[i]=1\n",
        "  else:\n",
        "    y_pred_train[i]=0\n",
        "cm_train = confusion_matrix(y_pred_train, y_train)\n",
        "print()\n",
        "print('Accuracy for training set for XGBoost = {}'.format((cm_train[0][0] +\n",
        "cm_train[1][1])/len(y_train)))\n",
        "print('Accuracy for test set for XGBoost = {}'.format((cm_test[0][0] + cm_test[1][1])/len(y_test)))"
      ],
      "execution_count": 47,
      "outputs": [
        {
          "output_type": "stream",
          "text": [
            "\n",
            "Accuracy for training set for XGBoost = 0.9958677685950413\n",
            "Accuracy for test set for XGBoost = 0.7704918032786885\n"
          ],
          "name": "stdout"
        }
      ]
    },
    {
      "cell_type": "code",
      "metadata": {
        "id": "o4FYvHPZY9bt"
      },
      "source": [
        ""
      ],
      "execution_count": null,
      "outputs": []
    },
    {
      "cell_type": "code",
      "metadata": {
        "id": "1bybi9KWYqYG"
      },
      "source": [
        ""
      ],
      "execution_count": null,
      "outputs": []
    }
  ]
}